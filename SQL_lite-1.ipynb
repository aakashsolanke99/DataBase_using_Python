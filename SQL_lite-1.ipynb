{
 "cells": [
  {
   "cell_type": "code",
   "execution_count": 1,
   "id": "63376e79",
   "metadata": {},
   "outputs": [],
   "source": [
    "import sqlite3"
   ]
  },
  {
   "cell_type": "code",
   "execution_count": null,
   "id": "4675c60f",
   "metadata": {},
   "outputs": [],
   "source": [
    "# we are connectin with server which is our local system"
   ]
  },
  {
   "cell_type": "code",
   "execution_count": 3,
   "id": "d2888abe",
   "metadata": {},
   "outputs": [],
   "source": [
    "db=sqlite3.connect(\"ineuron.db\")    # creating .db file to store data into table format"
   ]
  },
  {
   "cell_type": "code",
   "execution_count": 12,
   "id": "4950e46a",
   "metadata": {},
   "outputs": [
    {
     "name": "stdout",
     "output_type": "stream",
     "text": [
      " Volume in drive C is Acer\n",
      " Volume Serial Number is 44A5-598D\n",
      "\n",
      " Directory of C:\\Users\\aakas\\Documents\\INeuron\\SQL_ineuron\n",
      "\n",
      "30-11-2022  12:14    <DIR>          .\n",
      "30-11-2022  12:14    <DIR>          ..\n",
      "30-11-2022  11:56    <DIR>          .ipynb_checkpoints\n",
      "27-11-2022  19:48            51,867 car.data\n",
      "30-11-2022  11:37           628,633 carbon_nanotubes.csv\n",
      "26-11-2022  16:03            11,903 glass.data\n",
      "30-11-2022  12:12             8,192 ineuron.db\n",
      "30-11-2022  12:14                 0 ineuron.db-journal\n",
      "29-11-2022  17:31            28,326 mongodb day-1.ipynb\n",
      "30-11-2022  11:48            28,854 mongodb day-2.ipynb\n",
      "30-11-2022  12:13             3,077 SQL_lite-1.ipynb\n",
      "26-11-2022  17:18            89,376 sql-1.ipynb\n",
      "28-11-2022  00:06           774,328 sql-2.ipynb\n",
      "              10 File(s)      1,624,556 bytes\n",
      "               3 Dir(s)  222,971,084,800 bytes free\n"
     ]
    }
   ],
   "source": [
    "ls"
   ]
  },
  {
   "cell_type": "code",
   "execution_count": 7,
   "id": "2bac393e",
   "metadata": {},
   "outputs": [],
   "source": [
    "c=db.cursor()    # creating pointer (cursor)"
   ]
  },
  {
   "cell_type": "code",
   "execution_count": 9,
   "id": "8d021512",
   "metadata": {},
   "outputs": [
    {
     "data": {
      "text/plain": [
       "<sqlite3.Cursor at 0x202dc55a2d0>"
      ]
     },
     "execution_count": 9,
     "metadata": {},
     "output_type": "execute_result"
    }
   ],
   "source": [
    "c.execute(\"create table fsds(name text, batchid int, marks real)\")"
   ]
  },
  {
   "cell_type": "code",
   "execution_count": 11,
   "id": "f1624a28",
   "metadata": {},
   "outputs": [
    {
     "data": {
      "text/plain": [
       "<sqlite3.Cursor at 0x202dc55a2d0>"
      ]
     },
     "execution_count": 11,
     "metadata": {},
     "output_type": "execute_result"
    }
   ],
   "source": [
    "c.execute(\"insert into fsds values('sudh',3245,456.87)\")  # this one create new filr -journal"
   ]
  },
  {
   "cell_type": "code",
   "execution_count": 14,
   "id": "847c3756",
   "metadata": {},
   "outputs": [
    {
     "data": {
      "text/plain": [
       "<sqlite3.Cursor at 0x202dc55a2d0>"
      ]
     },
     "execution_count": 14,
     "metadata": {},
     "output_type": "execute_result"
    }
   ],
   "source": [
    "c.execute(\"insert into fsds values('sudh',3245,456.87)\")\n",
    "c.execute(\"insert into fsds values('sudh',3245,456.87)\")\n"
   ]
  },
  {
   "cell_type": "code",
   "execution_count": 16,
   "id": "d51cba10",
   "metadata": {},
   "outputs": [
    {
     "data": {
      "text/plain": [
       "<sqlite3.Cursor at 0x202dc55a2d0>"
      ]
     },
     "execution_count": 16,
     "metadata": {},
     "output_type": "execute_result"
    }
   ],
   "source": [
    "c.execute(\"insert into fsds values('sudh',3245,456.87)\")\n",
    "c.execute(\"insert into fsds values('sudh',3245,456.87)\")"
   ]
  },
  {
   "cell_type": "code",
   "execution_count": 17,
   "id": "3f9c0c3b",
   "metadata": {},
   "outputs": [],
   "source": [
    "data=c.execute(\"select * from fsds\")"
   ]
  },
  {
   "cell_type": "code",
   "execution_count": 18,
   "id": "e4e09bff",
   "metadata": {},
   "outputs": [
    {
     "name": "stdout",
     "output_type": "stream",
     "text": [
      "('sudh', 3245, 456.87)\n",
      "('sudh', 3245, 456.87)\n",
      "('sudh', 3245, 456.87)\n",
      "('sudh', 3245, 456.87)\n",
      "('sudh', 3245, 456.87)\n",
      "('sudh', 3245, 456.87)\n",
      "('sudh', 3245, 456.87)\n"
     ]
    }
   ],
   "source": [
    "for i in data:\n",
    "    print(i)"
   ]
  },
  {
   "cell_type": "code",
   "execution_count": 19,
   "id": "240bbccd",
   "metadata": {},
   "outputs": [],
   "source": [
    "db.commit()"
   ]
  },
  {
   "cell_type": "code",
   "execution_count": 21,
   "id": "ef003bf5",
   "metadata": {},
   "outputs": [],
   "source": [
    "db.close()  # close the file and connection"
   ]
  },
  {
   "cell_type": "code",
   "execution_count": 23,
   "id": "15cc2003",
   "metadata": {},
   "outputs": [],
   "source": [
    "db=sqlite3.connect(\"ineuron.db\")"
   ]
  },
  {
   "cell_type": "code",
   "execution_count": 24,
   "id": "b9b902b3",
   "metadata": {},
   "outputs": [],
   "source": [
    "c=db.cursor()"
   ]
  },
  {
   "cell_type": "code",
   "execution_count": 26,
   "id": "8e1d7e41",
   "metadata": {},
   "outputs": [],
   "source": [
    "data=c.execute(\"select * from fsds where marks>400\")"
   ]
  },
  {
   "cell_type": "code",
   "execution_count": 27,
   "id": "0ab30972",
   "metadata": {},
   "outputs": [
    {
     "name": "stdout",
     "output_type": "stream",
     "text": [
      "('sudh', 3245, 456.87)\n",
      "('sudh', 3245, 456.87)\n",
      "('sudh', 3245, 456.87)\n",
      "('sudh', 3245, 456.87)\n",
      "('sudh', 3245, 456.87)\n",
      "('sudh', 3245, 456.87)\n",
      "('sudh', 3245, 456.87)\n"
     ]
    }
   ],
   "source": [
    "for i in data:\n",
    "    print(i)"
   ]
  },
  {
   "cell_type": "code",
   "execution_count": 29,
   "id": "441cc8c4",
   "metadata": {},
   "outputs": [],
   "source": [
    "\n",
    "data=c.execute(\"select * from fsds where name='aakash'\")"
   ]
  },
  {
   "cell_type": "code",
   "execution_count": 30,
   "id": "d2966c5b",
   "metadata": {},
   "outputs": [],
   "source": [
    "for i in data:\n",
    "    print(i)\n"
   ]
  },
  {
   "cell_type": "code",
   "execution_count": 31,
   "id": "397f9a34",
   "metadata": {},
   "outputs": [],
   "source": [
    "data=c.execute(\"select name from fsds \")"
   ]
  },
  {
   "cell_type": "code",
   "execution_count": 32,
   "id": "1650ca85",
   "metadata": {},
   "outputs": [
    {
     "name": "stdout",
     "output_type": "stream",
     "text": [
      "('sudh',)\n",
      "('sudh',)\n",
      "('sudh',)\n",
      "('sudh',)\n",
      "('sudh',)\n",
      "('sudh',)\n",
      "('sudh',)\n"
     ]
    }
   ],
   "source": [
    "for i in data:\n",
    "    print(i)"
   ]
  },
  {
   "cell_type": "code",
   "execution_count": 33,
   "id": "f32b1045",
   "metadata": {},
   "outputs": [],
   "source": [
    "db.close()"
   ]
  },
  {
   "cell_type": "code",
   "execution_count": null,
   "id": "ffe73552",
   "metadata": {},
   "outputs": [],
   "source": [
    "# creating new database"
   ]
  },
  {
   "cell_type": "code",
   "execution_count": 34,
   "id": "e525e5e2",
   "metadata": {},
   "outputs": [],
   "source": [
    "db1=sqlite3.connect(\"person.db\")"
   ]
  },
  {
   "cell_type": "code",
   "execution_count": 35,
   "id": "6ac4bae7",
   "metadata": {},
   "outputs": [],
   "source": [
    "c=db1.cursor()"
   ]
  },
  {
   "cell_type": "code",
   "execution_count": 39,
   "id": "fb586ea7",
   "metadata": {},
   "outputs": [
    {
     "data": {
      "text/plain": [
       "<sqlite3.Cursor at 0x202dc233d50>"
      ]
     },
     "execution_count": 39,
     "metadata": {},
     "output_type": "execute_result"
    }
   ],
   "source": [
    "c.execute(\"create table person(name test, email_id test, age int , salary real)\")"
   ]
  },
  {
   "cell_type": "code",
   "execution_count": 40,
   "id": "5cdbe367",
   "metadata": {},
   "outputs": [
    {
     "data": {
      "text/plain": [
       "<sqlite3.Cursor at 0x202dc233d50>"
      ]
     },
     "execution_count": 40,
     "metadata": {},
     "output_type": "execute_result"
    }
   ],
   "source": [
    "c.execute(\"insert into person values('sudh','sudhansu@123',30,23425)\")"
   ]
  },
  {
   "cell_type": "code",
   "execution_count": 41,
   "id": "900752c7",
   "metadata": {},
   "outputs": [
    {
     "data": {
      "text/plain": [
       "<sqlite3.Cursor at 0x202dc233d50>"
      ]
     },
     "execution_count": 41,
     "metadata": {},
     "output_type": "execute_result"
    }
   ],
   "source": [
    "c.execute(\"insert into person values('akash','akash@123',23,23425)\")\n",
    "c.execute(\"insert into person values('hm','hm@123',22,23425)\")\n",
    "c.execute(\"insert into person values('swaraj','swaraj@123',20,23425)\")\n",
    "c.execute(\"insert into person values('veera','veera@123',8,23425)\")"
   ]
  },
  {
   "cell_type": "code",
   "execution_count": 42,
   "id": "b73f6cda",
   "metadata": {},
   "outputs": [],
   "source": [
    "data=c.execute(\"select * from person\")"
   ]
  },
  {
   "cell_type": "code",
   "execution_count": 43,
   "id": "0e95a406",
   "metadata": {},
   "outputs": [
    {
     "name": "stdout",
     "output_type": "stream",
     "text": [
      "('sudh', 'sudhansu@123', 30, 23425.0)\n",
      "('akash', 'akash@123', 23, 23425.0)\n",
      "('hm', 'hm@123', 22, 23425.0)\n",
      "('swaraj', 'swaraj@123', 20, 23425.0)\n",
      "('veera', 'veera@123', 8, 23425.0)\n"
     ]
    }
   ],
   "source": [
    "for i in data:\n",
    "    print(i)"
   ]
  },
  {
   "cell_type": "code",
   "execution_count": 45,
   "id": "55185fc1",
   "metadata": {},
   "outputs": [],
   "source": [
    "db1.commit()"
   ]
  },
  {
   "cell_type": "code",
   "execution_count": 46,
   "id": "12fc7c02",
   "metadata": {},
   "outputs": [],
   "source": [
    "db1.close()"
   ]
  },
  {
   "cell_type": "code",
   "execution_count": 47,
   "id": "a3945dda",
   "metadata": {},
   "outputs": [
    {
     "name": "stdout",
     "output_type": "stream",
     "text": [
      " Volume in drive C is Acer\n",
      " Volume Serial Number is 44A5-598D\n",
      "\n",
      " Directory of C:\\Users\\aakas\\Documents\\INeuron\\SQL_ineuron\n",
      "\n",
      "30-11-2022  12:33    <DIR>          .\n",
      "30-11-2022  12:33    <DIR>          ..\n",
      "30-11-2022  11:56    <DIR>          .ipynb_checkpoints\n",
      "27-11-2022  19:48            51,867 car.data\n",
      "30-11-2022  11:37           628,633 carbon_nanotubes.csv\n",
      "26-11-2022  16:03            11,903 glass.data\n",
      "30-11-2022  12:18             8,192 ineuron.db\n",
      "29-11-2022  17:31            28,326 mongodb day-1.ipynb\n",
      "30-11-2022  11:48            28,854 mongodb day-2.ipynb\n",
      "30-11-2022  12:33             8,192 person.db\n",
      "30-11-2022  12:33            11,243 SQL_lite-1.ipynb\n",
      "26-11-2022  17:18            89,376 sql-1.ipynb\n",
      "28-11-2022  00:06           774,328 sql-2.ipynb\n",
      "              10 File(s)      1,640,914 bytes\n",
      "               3 Dir(s)  222,969,057,280 bytes free\n"
     ]
    }
   ],
   "source": [
    "ls"
   ]
  },
  {
   "cell_type": "code",
   "execution_count": 50,
   "id": "9396960c",
   "metadata": {},
   "outputs": [],
   "source": [
    "db=sqlite3.connect(\"ineuron.db\")"
   ]
  },
  {
   "cell_type": "code",
   "execution_count": 51,
   "id": "7e5613d8",
   "metadata": {},
   "outputs": [],
   "source": [
    "c=db.cursor()"
   ]
  },
  {
   "cell_type": "code",
   "execution_count": 52,
   "id": "be9aee7d",
   "metadata": {},
   "outputs": [
    {
     "data": {
      "text/plain": [
       "<sqlite3.Cursor at 0x202dd059260>"
      ]
     },
     "execution_count": 52,
     "metadata": {},
     "output_type": "execute_result"
    }
   ],
   "source": [
    "c.execute(\"drop table fsds\")"
   ]
  },
  {
   "cell_type": "code",
   "execution_count": 53,
   "id": "d473b0bf",
   "metadata": {},
   "outputs": [
    {
     "ename": "OperationalError",
     "evalue": "no such table: fsds",
     "output_type": "error",
     "traceback": [
      "\u001b[1;31m---------------------------------------------------------------------------\u001b[0m",
      "\u001b[1;31mOperationalError\u001b[0m                          Traceback (most recent call last)",
      "Input \u001b[1;32mIn [53]\u001b[0m, in \u001b[0;36m<cell line: 1>\u001b[1;34m()\u001b[0m\n\u001b[1;32m----> 1\u001b[0m \u001b[43mc\u001b[49m\u001b[38;5;241;43m.\u001b[39;49m\u001b[43mexecute\u001b[49m\u001b[43m(\u001b[49m\u001b[38;5;124;43m\"\u001b[39;49m\u001b[38;5;124;43mselect * from fsds\u001b[39;49m\u001b[38;5;124;43m\"\u001b[39;49m\u001b[43m)\u001b[49m\n",
      "\u001b[1;31mOperationalError\u001b[0m: no such table: fsds"
     ]
    }
   ],
   "source": [
    "c.execute(\"select * from fsds\")"
   ]
  },
  {
   "cell_type": "code",
   "execution_count": 54,
   "id": "31817860",
   "metadata": {},
   "outputs": [
    {
     "name": "stdout",
     "output_type": "stream",
     "text": [
      " Volume in drive C is Acer\n",
      " Volume Serial Number is 44A5-598D\n",
      "\n",
      " Directory of C:\\Users\\aakas\\Documents\\INeuron\\SQL_ineuron\n",
      "\n",
      "30-11-2022  12:35    <DIR>          .\n",
      "30-11-2022  12:35    <DIR>          ..\n",
      "30-11-2022  11:56    <DIR>          .ipynb_checkpoints\n",
      "27-11-2022  19:48            51,867 car.data\n",
      "30-11-2022  11:37           628,633 carbon_nanotubes.csv\n",
      "26-11-2022  16:03            11,903 glass.data\n",
      "30-11-2022  12:35             8,192 ineuron.db\n",
      "29-11-2022  17:31            28,326 mongodb day-1.ipynb\n",
      "30-11-2022  11:48            28,854 mongodb day-2.ipynb\n",
      "30-11-2022  12:33             8,192 person.db\n",
      "30-11-2022  12:35            12,739 SQL_lite-1.ipynb\n",
      "26-11-2022  17:18            89,376 sql-1.ipynb\n",
      "28-11-2022  00:06           774,328 sql-2.ipynb\n",
      "              10 File(s)      1,642,410 bytes\n",
      "               3 Dir(s)  222,977,306,624 bytes free\n"
     ]
    }
   ],
   "source": [
    "ls"
   ]
  },
  {
   "cell_type": "code",
   "execution_count": 56,
   "id": "89e4cdaa",
   "metadata": {},
   "outputs": [],
   "source": [
    "db1.close()"
   ]
  },
  {
   "cell_type": "code",
   "execution_count": 57,
   "id": "5d8f6dff",
   "metadata": {},
   "outputs": [],
   "source": [
    "db=sqlite3.connect(\"person.db\")"
   ]
  },
  {
   "cell_type": "code",
   "execution_count": 58,
   "id": "d3504a70",
   "metadata": {},
   "outputs": [],
   "source": [
    "c=db.cursor()"
   ]
  },
  {
   "cell_type": "code",
   "execution_count": 60,
   "id": "fa63948a",
   "metadata": {},
   "outputs": [],
   "source": [
    "data=c.execute(\"select * from person limit 2\")"
   ]
  },
  {
   "cell_type": "code",
   "execution_count": 61,
   "id": "37407884",
   "metadata": {},
   "outputs": [
    {
     "name": "stdout",
     "output_type": "stream",
     "text": [
      "('sudh', 'sudhansu@123', 30, 23425.0)\n",
      "('akash', 'akash@123', 23, 23425.0)\n"
     ]
    }
   ],
   "source": [
    "for i in data:\n",
    "    print(i)"
   ]
  },
  {
   "cell_type": "code",
   "execution_count": 62,
   "id": "72480525",
   "metadata": {},
   "outputs": [],
   "source": [
    "db.close()"
   ]
  },
  {
   "cell_type": "code",
   "execution_count": 63,
   "id": "65ccd028",
   "metadata": {},
   "outputs": [],
   "source": [
    "db=sqlite3.connect(\"jobdb.db\")"
   ]
  },
  {
   "cell_type": "code",
   "execution_count": 64,
   "id": "d569b5ab",
   "metadata": {},
   "outputs": [],
   "source": [
    "c=db.cursor()"
   ]
  },
  {
   "cell_type": "code",
   "execution_count": 65,
   "id": "fb8bc25b",
   "metadata": {},
   "outputs": [
    {
     "data": {
      "text/plain": [
       "<sqlite3.Cursor at 0x202dd0d98f0>"
      ]
     },
     "execution_count": 65,
     "metadata": {},
     "output_type": "execute_result"
    }
   ],
   "source": [
    "c.execute(\"create table student(student_id int, student_name text,student_mail test,marks int)\")"
   ]
  },
  {
   "cell_type": "code",
   "execution_count": 67,
   "id": "6083fc54",
   "metadata": {},
   "outputs": [
    {
     "data": {
      "text/plain": [
       "<sqlite3.Cursor at 0x202dd0d98f0>"
      ]
     },
     "execution_count": 67,
     "metadata": {},
     "output_type": "execute_result"
    }
   ],
   "source": [
    "c.execute(\"create table address(student_id int , pincode int , location text, nearby text, phone_no int)\")"
   ]
  },
  {
   "cell_type": "code",
   "execution_count": 71,
   "id": "7426d6e6",
   "metadata": {},
   "outputs": [
    {
     "data": {
      "text/plain": [
       "<sqlite3.Cursor at 0x202dd0d98f0>"
      ]
     },
     "execution_count": 71,
     "metadata": {},
     "output_type": "execute_result"
    }
   ],
   "source": [
    "c.execute(\"insert into student values(101,'aakash','aakashsolanke99@',234)\")\n",
    "c.execute(\"insert into student values(102,'swaraj','swarajsolanke99@',234)\")\n",
    "c.execute(\"insert into student values(103,'amruta','aakashsolanke99@',234)\")\n",
    "c.execute(\"insert into student values(104,'ankita','aakashsolanke99@',234)\")\n",
    "c.execute(\"insert into student values(105,'aniket','aakashsolanke99@',234)\")\n",
    "c.execute(\"insert into student values(106,'hemlata','aakashsolanke99@',234)\")\n",
    "c.execute(\"insert into student values(105,'shivani','aakashsolanke99@',234)\")\n",
    "c.execute(\"insert into student values(106,'veera','aakashsolanke99@',234)\")\n"
   ]
  },
  {
   "cell_type": "code",
   "execution_count": 75,
   "id": "966218d6",
   "metadata": {},
   "outputs": [
    {
     "data": {
      "text/plain": [
       "<sqlite3.Cursor at 0x202dd0d98f0>"
      ]
     },
     "execution_count": 75,
     "metadata": {},
     "output_type": "execute_result"
    }
   ],
   "source": [
    "c.execute(\"insert into address values(255,423002,'withefiled','ineuron_office',234235647)\")"
   ]
  },
  {
   "cell_type": "code",
   "execution_count": 88,
   "id": "48541a22",
   "metadata": {},
   "outputs": [
    {
     "data": {
      "text/plain": [
       "<sqlite3.Cursor at 0x202dd0d98f0>"
      ]
     },
     "execution_count": 88,
     "metadata": {},
     "output_type": "execute_result"
    }
   ],
   "source": [
    "c.execute(\"insert into address values(255,423002,'withefiled','ineuron_office',234235647)\")\n",
    "c.execute(\"insert into address values(101,423002,'withefiled','ineuron_office',234235647)\")\n",
    "c.execute(\"insert into address values(102,423002,'withefiled','ineuron_office',234235647)\")\n",
    "c.execute(\"insert into address values(258,423002,'withefiled','ineuron_office',234235647)\")\n",
    "c.execute(\"insert into address values(259,423002,'withefiled','ineuron_office',234235647)\")\n",
    "c.execute(\"insert into address values(104,423002,'withefiled','ineuron_office',234235647)\")\n",
    "c.execute(\"insert into address values(105,423002,'withefiled','ineuron_office',234235647)\")\n",
    "c.execute(\"insert into address values(262,423002,'withefiled','ineuron_office',234235647)\")\n",
    "c.execute(\"insert into address values(108,423002,'withefiled','ineuron_office',234235647)\")\n",
    "c.execute(\"insert into address values(264,423002,'withefiled','ineuron_office',234235647)\")\n",
    "c.execute(\"insert into address values(265,423002,'withefiled','ineuron_office',234235647)\")\n",
    "c.execute(\"insert into address values(266,423002,'withefiled','ineuron_office',234235647)\")"
   ]
  },
  {
   "cell_type": "code",
   "execution_count": 89,
   "id": "54458fe6",
   "metadata": {},
   "outputs": [],
   "source": [
    "data=c.execute(\"select * from address\")"
   ]
  },
  {
   "cell_type": "code",
   "execution_count": 90,
   "id": "943e6adc",
   "metadata": {},
   "outputs": [
    {
     "name": "stdout",
     "output_type": "stream",
     "text": [
      "(255, 423002, 'withefiled', 'ineuron_office', 234235647)\n",
      "(255, 423002, 'withefiled', 'ineuron_office', 234235647)\n",
      "(255, 423002, 'withefiled', 'ineuron_office', 234235647)\n",
      "(255, 423002, 'withefiled', 'ineuron_office', 234235647)\n",
      "(255, 423002, 'withefiled', 'ineuron_office', 234235647)\n",
      "(255, 423002, 'withefiled', 'ineuron_office', 234235647)\n",
      "(255, 423002, 'withefiled', 'ineuron_office', 234235647)\n",
      "(255, 423002, 'withefiled', 'ineuron_office', 234235647)\n",
      "(255, 423002, 'withefiled', 'ineuron_office', 234235647)\n",
      "(255, 423002, 'withefiled', 'ineuron_office', 234235647)\n",
      "(255, 423002, 'withefiled', 'ineuron_office', 234235647)\n",
      "(255, 423002, 'withefiled', 'ineuron_office', 234235647)\n",
      "(255, 423002, 'withefiled', 'ineuron_office', 234235647)\n",
      "(255, 423002, 'withefiled', 'ineuron_office', 234235647)\n",
      "(255, 423002, 'withefiled', 'ineuron_office', 234235647)\n",
      "(255, 423002, 'withefiled', 'ineuron_office', 234235647)\n",
      "(255, 423002, 'withefiled', 'ineuron_office', 234235647)\n",
      "(256, 423002, 'withefiled', 'ineuron_office', 234235647)\n",
      "(257, 423002, 'withefiled', 'ineuron_office', 234235647)\n",
      "(258, 423002, 'withefiled', 'ineuron_office', 234235647)\n",
      "(259, 423002, 'withefiled', 'ineuron_office', 234235647)\n",
      "(260, 423002, 'withefiled', 'ineuron_office', 234235647)\n",
      "(261, 423002, 'withefiled', 'ineuron_office', 234235647)\n",
      "(262, 423002, 'withefiled', 'ineuron_office', 234235647)\n",
      "(263, 423002, 'withefiled', 'ineuron_office', 234235647)\n",
      "(264, 423002, 'withefiled', 'ineuron_office', 234235647)\n",
      "(265, 423002, 'withefiled', 'ineuron_office', 234235647)\n",
      "(266, 423002, 'withefiled', 'ineuron_office', 234235647)\n",
      "(255, 423002, 'withefiled', 'ineuron_office', 234235647)\n",
      "(101, 423002, 'withefiled', 'ineuron_office', 234235647)\n",
      "(102, 423002, 'withefiled', 'ineuron_office', 234235647)\n",
      "(258, 423002, 'withefiled', 'ineuron_office', 234235647)\n",
      "(259, 423002, 'withefiled', 'ineuron_office', 234235647)\n",
      "(104, 423002, 'withefiled', 'ineuron_office', 234235647)\n",
      "(105, 423002, 'withefiled', 'ineuron_office', 234235647)\n",
      "(262, 423002, 'withefiled', 'ineuron_office', 234235647)\n",
      "(108, 423002, 'withefiled', 'ineuron_office', 234235647)\n",
      "(264, 423002, 'withefiled', 'ineuron_office', 234235647)\n",
      "(265, 423002, 'withefiled', 'ineuron_office', 234235647)\n",
      "(266, 423002, 'withefiled', 'ineuron_office', 234235647)\n"
     ]
    }
   ],
   "source": [
    "for i in data:\n",
    "    print(i)"
   ]
  },
  {
   "cell_type": "code",
   "execution_count": 91,
   "id": "4f2cd14a",
   "metadata": {},
   "outputs": [
    {
     "name": "stdout",
     "output_type": "stream",
     "text": [
      "(101, 'aakash', 'aakashsolanke99@', 234)\n",
      "(101, 'aakash', 'aakashsolanke99@', 234)\n",
      "(101, 'aakash', 'aakashsolanke99@', 234)\n",
      "(101, 'aakash', 'aakashsolanke99@', 234)\n",
      "(101, 'aakash', 'aakashsolanke99@', 234)\n",
      "(101, 'aakash', 'aakashsolanke99@', 234)\n",
      "(101, 'aakash', 'aakashsolanke99@', 234)\n",
      "(101, 'aakash', 'aakashsolanke99@', 234)\n",
      "(101, 'aakash', 'aakashsolanke99@', 234)\n",
      "(101, 'aakash', 'aakashsolanke99@', 234)\n",
      "(101, 'aakash', 'aakashsolanke99@', 234)\n",
      "(101, 'aakash', 'aakashsolanke99@', 234)\n",
      "(101, 'aakash', 'aakashsolanke99@', 234)\n",
      "(101, 'aakash', 'aakashsolanke99@', 234)\n",
      "(101, 'aakash', 'aakashsolanke99@', 234)\n",
      "(101, 'aakash', 'aakashsolanke99@', 234)\n",
      "(101, 'aakash', 'aakashsolanke99@', 234)\n",
      "(101, 'aakash', 'aakashsolanke99@', 234)\n",
      "(101, 'aakash', 'aakashsolanke99@', 234)\n",
      "(102, 'swaraj', 'swarajsolanke99@', 234)\n",
      "(103, 'amruta', 'aakashsolanke99@', 234)\n",
      "(104, 'ankita', 'aakashsolanke99@', 234)\n",
      "(105, 'aniket', 'aakashsolanke99@', 234)\n",
      "(106, 'hemlata', 'aakashsolanke99@', 234)\n",
      "(105, 'shivani', 'aakashsolanke99@', 234)\n",
      "(106, 'veera', 'aakashsolanke99@', 234)\n"
     ]
    }
   ],
   "source": [
    "for i in c.execute(\"select * from student\"):\n",
    "    print(i)"
   ]
  },
  {
   "cell_type": "code",
   "execution_count": 92,
   "id": "1fc716eb",
   "metadata": {},
   "outputs": [],
   "source": [
    "data=c.execute(\"select * from student s left join address a on s.student_id=a.student_id \")"
   ]
  },
  {
   "cell_type": "code",
   "execution_count": 93,
   "id": "054c20b9",
   "metadata": {},
   "outputs": [
    {
     "name": "stdout",
     "output_type": "stream",
     "text": [
      "(101, 'aakash', 'aakashsolanke99@', 234, 101, 423002, 'withefiled', 'ineuron_office', 234235647)\n",
      "(101, 'aakash', 'aakashsolanke99@', 234, 101, 423002, 'withefiled', 'ineuron_office', 234235647)\n",
      "(101, 'aakash', 'aakashsolanke99@', 234, 101, 423002, 'withefiled', 'ineuron_office', 234235647)\n",
      "(101, 'aakash', 'aakashsolanke99@', 234, 101, 423002, 'withefiled', 'ineuron_office', 234235647)\n",
      "(101, 'aakash', 'aakashsolanke99@', 234, 101, 423002, 'withefiled', 'ineuron_office', 234235647)\n",
      "(101, 'aakash', 'aakashsolanke99@', 234, 101, 423002, 'withefiled', 'ineuron_office', 234235647)\n",
      "(101, 'aakash', 'aakashsolanke99@', 234, 101, 423002, 'withefiled', 'ineuron_office', 234235647)\n",
      "(101, 'aakash', 'aakashsolanke99@', 234, 101, 423002, 'withefiled', 'ineuron_office', 234235647)\n",
      "(101, 'aakash', 'aakashsolanke99@', 234, 101, 423002, 'withefiled', 'ineuron_office', 234235647)\n",
      "(101, 'aakash', 'aakashsolanke99@', 234, 101, 423002, 'withefiled', 'ineuron_office', 234235647)\n",
      "(101, 'aakash', 'aakashsolanke99@', 234, 101, 423002, 'withefiled', 'ineuron_office', 234235647)\n",
      "(101, 'aakash', 'aakashsolanke99@', 234, 101, 423002, 'withefiled', 'ineuron_office', 234235647)\n",
      "(101, 'aakash', 'aakashsolanke99@', 234, 101, 423002, 'withefiled', 'ineuron_office', 234235647)\n",
      "(101, 'aakash', 'aakashsolanke99@', 234, 101, 423002, 'withefiled', 'ineuron_office', 234235647)\n",
      "(101, 'aakash', 'aakashsolanke99@', 234, 101, 423002, 'withefiled', 'ineuron_office', 234235647)\n",
      "(101, 'aakash', 'aakashsolanke99@', 234, 101, 423002, 'withefiled', 'ineuron_office', 234235647)\n",
      "(101, 'aakash', 'aakashsolanke99@', 234, 101, 423002, 'withefiled', 'ineuron_office', 234235647)\n",
      "(101, 'aakash', 'aakashsolanke99@', 234, 101, 423002, 'withefiled', 'ineuron_office', 234235647)\n",
      "(101, 'aakash', 'aakashsolanke99@', 234, 101, 423002, 'withefiled', 'ineuron_office', 234235647)\n",
      "(102, 'swaraj', 'swarajsolanke99@', 234, 102, 423002, 'withefiled', 'ineuron_office', 234235647)\n",
      "(103, 'amruta', 'aakashsolanke99@', 234, None, None, None, None, None)\n",
      "(104, 'ankita', 'aakashsolanke99@', 234, 104, 423002, 'withefiled', 'ineuron_office', 234235647)\n",
      "(105, 'aniket', 'aakashsolanke99@', 234, 105, 423002, 'withefiled', 'ineuron_office', 234235647)\n",
      "(106, 'hemlata', 'aakashsolanke99@', 234, None, None, None, None, None)\n",
      "(105, 'shivani', 'aakashsolanke99@', 234, 105, 423002, 'withefiled', 'ineuron_office', 234235647)\n",
      "(106, 'veera', 'aakashsolanke99@', 234, None, None, None, None, None)\n"
     ]
    }
   ],
   "source": [
    "for i in data:   # it gives valuse from left table that is student and the vales which are present match to student \n",
    "                  # id fron table address \n",
    "                     \n",
    "    print(i)"
   ]
  },
  {
   "cell_type": "code",
   "execution_count": 97,
   "id": "e9ef5c68",
   "metadata": {},
   "outputs": [],
   "source": [
    "data=c.execute(\"select * from address s left join student a on s.student_id=a.student_id \")"
   ]
  },
  {
   "cell_type": "code",
   "execution_count": 98,
   "id": "ab568bef",
   "metadata": {},
   "outputs": [
    {
     "name": "stdout",
     "output_type": "stream",
     "text": [
      "(255, 423002, 'withefiled', 'ineuron_office', 234235647, None, None, None, None)\n",
      "(255, 423002, 'withefiled', 'ineuron_office', 234235647, None, None, None, None)\n",
      "(255, 423002, 'withefiled', 'ineuron_office', 234235647, None, None, None, None)\n",
      "(255, 423002, 'withefiled', 'ineuron_office', 234235647, None, None, None, None)\n",
      "(255, 423002, 'withefiled', 'ineuron_office', 234235647, None, None, None, None)\n",
      "(255, 423002, 'withefiled', 'ineuron_office', 234235647, None, None, None, None)\n",
      "(255, 423002, 'withefiled', 'ineuron_office', 234235647, None, None, None, None)\n",
      "(255, 423002, 'withefiled', 'ineuron_office', 234235647, None, None, None, None)\n",
      "(255, 423002, 'withefiled', 'ineuron_office', 234235647, None, None, None, None)\n",
      "(255, 423002, 'withefiled', 'ineuron_office', 234235647, None, None, None, None)\n",
      "(255, 423002, 'withefiled', 'ineuron_office', 234235647, None, None, None, None)\n",
      "(255, 423002, 'withefiled', 'ineuron_office', 234235647, None, None, None, None)\n",
      "(255, 423002, 'withefiled', 'ineuron_office', 234235647, None, None, None, None)\n",
      "(255, 423002, 'withefiled', 'ineuron_office', 234235647, None, None, None, None)\n",
      "(255, 423002, 'withefiled', 'ineuron_office', 234235647, None, None, None, None)\n",
      "(255, 423002, 'withefiled', 'ineuron_office', 234235647, None, None, None, None)\n",
      "(255, 423002, 'withefiled', 'ineuron_office', 234235647, None, None, None, None)\n",
      "(256, 423002, 'withefiled', 'ineuron_office', 234235647, None, None, None, None)\n",
      "(257, 423002, 'withefiled', 'ineuron_office', 234235647, None, None, None, None)\n",
      "(258, 423002, 'withefiled', 'ineuron_office', 234235647, None, None, None, None)\n",
      "(259, 423002, 'withefiled', 'ineuron_office', 234235647, None, None, None, None)\n",
      "(260, 423002, 'withefiled', 'ineuron_office', 234235647, None, None, None, None)\n",
      "(261, 423002, 'withefiled', 'ineuron_office', 234235647, None, None, None, None)\n",
      "(262, 423002, 'withefiled', 'ineuron_office', 234235647, None, None, None, None)\n",
      "(263, 423002, 'withefiled', 'ineuron_office', 234235647, None, None, None, None)\n",
      "(264, 423002, 'withefiled', 'ineuron_office', 234235647, None, None, None, None)\n",
      "(265, 423002, 'withefiled', 'ineuron_office', 234235647, None, None, None, None)\n",
      "(266, 423002, 'withefiled', 'ineuron_office', 234235647, None, None, None, None)\n",
      "(255, 423002, 'withefiled', 'ineuron_office', 234235647, None, None, None, None)\n",
      "(101, 423002, 'withefiled', 'ineuron_office', 234235647, 101, 'aakash', 'aakashsolanke99@', 234)\n",
      "(101, 423002, 'withefiled', 'ineuron_office', 234235647, 101, 'aakash', 'aakashsolanke99@', 234)\n",
      "(101, 423002, 'withefiled', 'ineuron_office', 234235647, 101, 'aakash', 'aakashsolanke99@', 234)\n",
      "(101, 423002, 'withefiled', 'ineuron_office', 234235647, 101, 'aakash', 'aakashsolanke99@', 234)\n",
      "(101, 423002, 'withefiled', 'ineuron_office', 234235647, 101, 'aakash', 'aakashsolanke99@', 234)\n",
      "(101, 423002, 'withefiled', 'ineuron_office', 234235647, 101, 'aakash', 'aakashsolanke99@', 234)\n",
      "(101, 423002, 'withefiled', 'ineuron_office', 234235647, 101, 'aakash', 'aakashsolanke99@', 234)\n",
      "(101, 423002, 'withefiled', 'ineuron_office', 234235647, 101, 'aakash', 'aakashsolanke99@', 234)\n",
      "(101, 423002, 'withefiled', 'ineuron_office', 234235647, 101, 'aakash', 'aakashsolanke99@', 234)\n",
      "(101, 423002, 'withefiled', 'ineuron_office', 234235647, 101, 'aakash', 'aakashsolanke99@', 234)\n",
      "(101, 423002, 'withefiled', 'ineuron_office', 234235647, 101, 'aakash', 'aakashsolanke99@', 234)\n",
      "(101, 423002, 'withefiled', 'ineuron_office', 234235647, 101, 'aakash', 'aakashsolanke99@', 234)\n",
      "(101, 423002, 'withefiled', 'ineuron_office', 234235647, 101, 'aakash', 'aakashsolanke99@', 234)\n",
      "(101, 423002, 'withefiled', 'ineuron_office', 234235647, 101, 'aakash', 'aakashsolanke99@', 234)\n",
      "(101, 423002, 'withefiled', 'ineuron_office', 234235647, 101, 'aakash', 'aakashsolanke99@', 234)\n",
      "(101, 423002, 'withefiled', 'ineuron_office', 234235647, 101, 'aakash', 'aakashsolanke99@', 234)\n",
      "(101, 423002, 'withefiled', 'ineuron_office', 234235647, 101, 'aakash', 'aakashsolanke99@', 234)\n",
      "(101, 423002, 'withefiled', 'ineuron_office', 234235647, 101, 'aakash', 'aakashsolanke99@', 234)\n",
      "(101, 423002, 'withefiled', 'ineuron_office', 234235647, 101, 'aakash', 'aakashsolanke99@', 234)\n",
      "(102, 423002, 'withefiled', 'ineuron_office', 234235647, 102, 'swaraj', 'swarajsolanke99@', 234)\n",
      "(258, 423002, 'withefiled', 'ineuron_office', 234235647, None, None, None, None)\n",
      "(259, 423002, 'withefiled', 'ineuron_office', 234235647, None, None, None, None)\n",
      "(104, 423002, 'withefiled', 'ineuron_office', 234235647, 104, 'ankita', 'aakashsolanke99@', 234)\n",
      "(105, 423002, 'withefiled', 'ineuron_office', 234235647, 105, 'aniket', 'aakashsolanke99@', 234)\n",
      "(105, 423002, 'withefiled', 'ineuron_office', 234235647, 105, 'shivani', 'aakashsolanke99@', 234)\n",
      "(262, 423002, 'withefiled', 'ineuron_office', 234235647, None, None, None, None)\n",
      "(108, 423002, 'withefiled', 'ineuron_office', 234235647, None, None, None, None)\n",
      "(264, 423002, 'withefiled', 'ineuron_office', 234235647, None, None, None, None)\n",
      "(265, 423002, 'withefiled', 'ineuron_office', 234235647, None, None, None, None)\n",
      "(266, 423002, 'withefiled', 'ineuron_office', 234235647, None, None, None, None)\n"
     ]
    }
   ],
   "source": [
    "for i in data:\n",
    "    print(i)"
   ]
  },
  {
   "cell_type": "code",
   "execution_count": 99,
   "id": "3dde5537",
   "metadata": {},
   "outputs": [
    {
     "name": "stdout",
     "output_type": "stream",
     "text": [
      "(101, 'aakash', 'aakashsolanke99@', 234)\n",
      "(101, 'aakash', 'aakashsolanke99@', 234)\n",
      "(101, 'aakash', 'aakashsolanke99@', 234)\n",
      "(101, 'aakash', 'aakashsolanke99@', 234)\n",
      "(101, 'aakash', 'aakashsolanke99@', 234)\n",
      "(101, 'aakash', 'aakashsolanke99@', 234)\n",
      "(101, 'aakash', 'aakashsolanke99@', 234)\n",
      "(101, 'aakash', 'aakashsolanke99@', 234)\n",
      "(101, 'aakash', 'aakashsolanke99@', 234)\n",
      "(101, 'aakash', 'aakashsolanke99@', 234)\n",
      "(101, 'aakash', 'aakashsolanke99@', 234)\n",
      "(101, 'aakash', 'aakashsolanke99@', 234)\n",
      "(101, 'aakash', 'aakashsolanke99@', 234)\n",
      "(101, 'aakash', 'aakashsolanke99@', 234)\n",
      "(101, 'aakash', 'aakashsolanke99@', 234)\n",
      "(101, 'aakash', 'aakashsolanke99@', 234)\n",
      "(101, 'aakash', 'aakashsolanke99@', 234)\n",
      "(101, 'aakash', 'aakashsolanke99@', 234)\n",
      "(101, 'aakash', 'aakashsolanke99@', 234)\n",
      "(102, 'swaraj', 'swarajsolanke99@', 234)\n",
      "(103, 'amruta', 'aakashsolanke99@', 234)\n",
      "(104, 'ankita', 'aakashsolanke99@', 234)\n",
      "(105, 'aniket', 'aakashsolanke99@', 234)\n",
      "(106, 'hemlata', 'aakashsolanke99@', 234)\n",
      "(105, 'shivani', 'aakashsolanke99@', 234)\n",
      "(106, 'veera', 'aakashsolanke99@', 234)\n"
     ]
    }
   ],
   "source": [
    "for i in c.execute(\"select * from student\"):\n",
    "    print(i)"
   ]
  },
  {
   "cell_type": "code",
   "execution_count": 100,
   "id": "9816cf19",
   "metadata": {},
   "outputs": [
    {
     "data": {
      "text/plain": [
       "<sqlite3.Cursor at 0x202dd0d98f0>"
      ]
     },
     "execution_count": 100,
     "metadata": {},
     "output_type": "execute_result"
    }
   ],
   "source": [
    "c.execute(\"delete from student where student_id > 106 \")"
   ]
  },
  {
   "cell_type": "code",
   "execution_count": 101,
   "id": "e7191ead",
   "metadata": {},
   "outputs": [
    {
     "name": "stdout",
     "output_type": "stream",
     "text": [
      "(101, 'aakash', 'aakashsolanke99@', 234)\n",
      "(101, 'aakash', 'aakashsolanke99@', 234)\n",
      "(101, 'aakash', 'aakashsolanke99@', 234)\n",
      "(101, 'aakash', 'aakashsolanke99@', 234)\n",
      "(101, 'aakash', 'aakashsolanke99@', 234)\n",
      "(101, 'aakash', 'aakashsolanke99@', 234)\n",
      "(101, 'aakash', 'aakashsolanke99@', 234)\n",
      "(101, 'aakash', 'aakashsolanke99@', 234)\n",
      "(101, 'aakash', 'aakashsolanke99@', 234)\n",
      "(101, 'aakash', 'aakashsolanke99@', 234)\n",
      "(101, 'aakash', 'aakashsolanke99@', 234)\n",
      "(101, 'aakash', 'aakashsolanke99@', 234)\n",
      "(101, 'aakash', 'aakashsolanke99@', 234)\n",
      "(101, 'aakash', 'aakashsolanke99@', 234)\n",
      "(101, 'aakash', 'aakashsolanke99@', 234)\n",
      "(101, 'aakash', 'aakashsolanke99@', 234)\n",
      "(101, 'aakash', 'aakashsolanke99@', 234)\n",
      "(101, 'aakash', 'aakashsolanke99@', 234)\n",
      "(101, 'aakash', 'aakashsolanke99@', 234)\n",
      "(102, 'swaraj', 'swarajsolanke99@', 234)\n",
      "(103, 'amruta', 'aakashsolanke99@', 234)\n",
      "(104, 'ankita', 'aakashsolanke99@', 234)\n",
      "(105, 'aniket', 'aakashsolanke99@', 234)\n",
      "(106, 'hemlata', 'aakashsolanke99@', 234)\n",
      "(105, 'shivani', 'aakashsolanke99@', 234)\n",
      "(106, 'veera', 'aakashsolanke99@', 234)\n"
     ]
    }
   ],
   "source": [
    "for i in c.execute(\"select * from student\"):\n",
    "    print(i)"
   ]
  },
  {
   "cell_type": "code",
   "execution_count": 103,
   "id": "35a30480",
   "metadata": {},
   "outputs": [],
   "source": [
    "data=c.execute(\"update student set student_id = 200 where student_id=101 \")"
   ]
  },
  {
   "cell_type": "code",
   "execution_count": 106,
   "id": "4052b401",
   "metadata": {},
   "outputs": [],
   "source": [
    "data=c.execute(\"select * from student\")"
   ]
  },
  {
   "cell_type": "code",
   "execution_count": 107,
   "id": "3fcabc99",
   "metadata": {},
   "outputs": [
    {
     "data": {
      "text/plain": [
       "[(200, 'aakash', 'aakashsolanke99@', 234),\n",
       " (200, 'aakash', 'aakashsolanke99@', 234),\n",
       " (200, 'aakash', 'aakashsolanke99@', 234),\n",
       " (200, 'aakash', 'aakashsolanke99@', 234),\n",
       " (200, 'aakash', 'aakashsolanke99@', 234),\n",
       " (200, 'aakash', 'aakashsolanke99@', 234),\n",
       " (200, 'aakash', 'aakashsolanke99@', 234),\n",
       " (200, 'aakash', 'aakashsolanke99@', 234),\n",
       " (200, 'aakash', 'aakashsolanke99@', 234),\n",
       " (200, 'aakash', 'aakashsolanke99@', 234),\n",
       " (200, 'aakash', 'aakashsolanke99@', 234),\n",
       " (200, 'aakash', 'aakashsolanke99@', 234),\n",
       " (200, 'aakash', 'aakashsolanke99@', 234),\n",
       " (200, 'aakash', 'aakashsolanke99@', 234),\n",
       " (200, 'aakash', 'aakashsolanke99@', 234),\n",
       " (200, 'aakash', 'aakashsolanke99@', 234),\n",
       " (200, 'aakash', 'aakashsolanke99@', 234),\n",
       " (200, 'aakash', 'aakashsolanke99@', 234),\n",
       " (200, 'aakash', 'aakashsolanke99@', 234),\n",
       " (102, 'swaraj', 'swarajsolanke99@', 234),\n",
       " (103, 'amruta', 'aakashsolanke99@', 234),\n",
       " (104, 'ankita', 'aakashsolanke99@', 234),\n",
       " (105, 'aniket', 'aakashsolanke99@', 234),\n",
       " (106, 'hemlata', 'aakashsolanke99@', 234),\n",
       " (105, 'shivani', 'aakashsolanke99@', 234),\n",
       " (106, 'veera', 'aakashsolanke99@', 234)]"
      ]
     },
     "execution_count": 107,
     "metadata": {},
     "output_type": "execute_result"
    }
   ],
   "source": [
    "data.fetchall()"
   ]
  },
  {
   "cell_type": "code",
   "execution_count": 108,
   "id": "e2f4a129",
   "metadata": {},
   "outputs": [],
   "source": [
    "db.close()"
   ]
  },
  {
   "cell_type": "markdown",
   "id": "898d9eba",
   "metadata": {},
   "source": [
    "## Map"
   ]
  },
  {
   "cell_type": "code",
   "execution_count": 109,
   "id": "9f490a32",
   "metadata": {},
   "outputs": [],
   "source": [
    "l=[1,2,3,4,5,6]"
   ]
  },
  {
   "cell_type": "code",
   "execution_count": 110,
   "id": "9b1b64ae",
   "metadata": {},
   "outputs": [],
   "source": [
    "l1=[]\n",
    "for i in l:\n",
    "    l1.append(i+5)\n",
    "    "
   ]
  },
  {
   "cell_type": "code",
   "execution_count": 111,
   "id": "e0c0c4e2",
   "metadata": {},
   "outputs": [
    {
     "data": {
      "text/plain": [
       "[6, 7, 8, 9, 10, 11]"
      ]
     },
     "execution_count": 111,
     "metadata": {},
     "output_type": "execute_result"
    }
   ],
   "source": [
    "l1"
   ]
  },
  {
   "cell_type": "code",
   "execution_count": 112,
   "id": "8ae83c2e",
   "metadata": {},
   "outputs": [
    {
     "data": {
      "text/plain": [
       "[6, 7, 8, 9, 10, 11]"
      ]
     },
     "execution_count": 112,
     "metadata": {},
     "output_type": "execute_result"
    }
   ],
   "source": [
    "[i+5 for i in l ]"
   ]
  },
  {
   "cell_type": "code",
   "execution_count": 115,
   "id": "174a740b",
   "metadata": {},
   "outputs": [],
   "source": [
    "def test(a):\n",
    "    return a+5"
   ]
  },
  {
   "cell_type": "code",
   "execution_count": 117,
   "id": "b05f28c4",
   "metadata": {},
   "outputs": [
    {
     "data": {
      "text/plain": [
       "[6, 7, 8, 9, 10, 11]"
      ]
     },
     "execution_count": 117,
     "metadata": {},
     "output_type": "execute_result"
    }
   ],
   "source": [
    "list(map(test,l))    # one by one data from list l will pass to function test"
   ]
  },
  {
   "cell_type": "code",
   "execution_count": 118,
   "id": "cc256eec",
   "metadata": {},
   "outputs": [],
   "source": [
    "l1=[\"12\",\"123\",\"345\",\"657\"]"
   ]
  },
  {
   "cell_type": "code",
   "execution_count": 119,
   "id": "a04b3c2b",
   "metadata": {},
   "outputs": [],
   "source": [
    "def test1(a):\n",
    "    return int(a)"
   ]
  },
  {
   "cell_type": "code",
   "execution_count": 120,
   "id": "98161c99",
   "metadata": {},
   "outputs": [
    {
     "data": {
      "text/plain": [
       "[12, 123, 345, 657]"
      ]
     },
     "execution_count": 120,
     "metadata": {},
     "output_type": "execute_result"
    }
   ],
   "source": [
    "list(map(test1,l1))    # map alwyas takes function as first arrguments and list as second arrgument"
   ]
  },
  {
   "cell_type": "code",
   "execution_count": 121,
   "id": "a2eecab7",
   "metadata": {},
   "outputs": [
    {
     "data": {
      "text/plain": [
       "[12, 123, 345, 657]"
      ]
     },
     "execution_count": 121,
     "metadata": {},
     "output_type": "execute_result"
    }
   ],
   "source": [
    "list(map(lambda x : int(x), l1))"
   ]
  },
  {
   "cell_type": "code",
   "execution_count": 125,
   "id": "5abcc77c",
   "metadata": {},
   "outputs": [
    {
     "data": {
      "text/plain": [
       "[6, 7, 8, 9, 10, 11]"
      ]
     },
     "execution_count": 125,
     "metadata": {},
     "output_type": "execute_result"
    }
   ],
   "source": [
    "list(map(lambda x :x+5, l))"
   ]
  },
  {
   "cell_type": "markdown",
   "id": "5398eb5c",
   "metadata": {},
   "source": [
    "# filter"
   ]
  },
  {
   "cell_type": "code",
   "execution_count": 129,
   "id": "049a3cf5",
   "metadata": {},
   "outputs": [],
   "source": [
    "l=[4,5,6,7,8,32,34]"
   ]
  },
  {
   "cell_type": "code",
   "execution_count": 137,
   "id": "6d075c7c",
   "metadata": {},
   "outputs": [],
   "source": [
    "def test2(a):\n",
    "    if a%2==0:\n",
    "        return True"
   ]
  },
  {
   "cell_type": "code",
   "execution_count": 138,
   "id": "df5a3154",
   "metadata": {},
   "outputs": [
    {
     "data": {
      "text/plain": [
       "[4, 6, 8, 32, 34]"
      ]
     },
     "execution_count": 138,
     "metadata": {},
     "output_type": "execute_result"
    }
   ],
   "source": [
    "list(filter(test2,l))  # filter return only those item which condition is true or retun true"
   ]
  },
  {
   "cell_type": "code",
   "execution_count": 139,
   "id": "f8875281",
   "metadata": {},
   "outputs": [
    {
     "data": {
      "text/plain": [
       "[4, 6, 8, 32, 34]"
      ]
     },
     "execution_count": 139,
     "metadata": {},
     "output_type": "execute_result"
    }
   ],
   "source": [
    "list(filter(lambda x:x%2==0,l))"
   ]
  },
  {
   "cell_type": "code",
   "execution_count": 140,
   "id": "9674a438",
   "metadata": {},
   "outputs": [
    {
     "data": {
      "text/plain": [
       "[5, 7]"
      ]
     },
     "execution_count": 140,
     "metadata": {},
     "output_type": "execute_result"
    }
   ],
   "source": [
    "list(filter(lambda x:x%2!=0,l))"
   ]
  },
  {
   "cell_type": "markdown",
   "id": "96793198",
   "metadata": {},
   "source": [
    "# reduce"
   ]
  },
  {
   "cell_type": "code",
   "execution_count": 141,
   "id": "0c7be748",
   "metadata": {},
   "outputs": [],
   "source": [
    "from functools import reduce"
   ]
  },
  {
   "cell_type": "code",
   "execution_count": 142,
   "id": "1afa2f6e",
   "metadata": {},
   "outputs": [],
   "source": [
    "l=[3,4,5,6,7,8,9,1]"
   ]
  },
  {
   "cell_type": "code",
   "execution_count": 144,
   "id": "14c9eb18",
   "metadata": {},
   "outputs": [],
   "source": [
    "def test4(a,b):\n",
    "    return a+b"
   ]
  },
  {
   "cell_type": "code",
   "execution_count": 146,
   "id": "6c395751",
   "metadata": {},
   "outputs": [
    {
     "data": {
      "text/plain": [
       "43"
      ]
     },
     "execution_count": 146,
     "metadata": {},
     "output_type": "execute_result"
    }
   ],
   "source": [
    "(reduce(test4,l))"
   ]
  },
  {
   "cell_type": "code",
   "execution_count": 147,
   "id": "880a3064",
   "metadata": {},
   "outputs": [
    {
     "data": {
      "text/plain": [
       "43"
      ]
     },
     "execution_count": 147,
     "metadata": {},
     "output_type": "execute_result"
    }
   ],
   "source": [
    "reduce(lambda x,y:x+y,l)"
   ]
  },
  {
   "cell_type": "code",
   "execution_count": 148,
   "id": "294b03e4",
   "metadata": {},
   "outputs": [],
   "source": [
    "# it work with one element and it consider second as zero"
   ]
  },
  {
   "cell_type": "code",
   "execution_count": 149,
   "id": "4df31997",
   "metadata": {},
   "outputs": [
    {
     "data": {
      "text/plain": [
       "181440"
      ]
     },
     "execution_count": 149,
     "metadata": {},
     "output_type": "execute_result"
    }
   ],
   "source": [
    "reduce(lambda x,y:x*y,l)"
   ]
  },
  {
   "cell_type": "code",
   "execution_count": 150,
   "id": "9063ee1f",
   "metadata": {},
   "outputs": [
    {
     "data": {
      "text/plain": [
       "4.96031746031746e-05"
      ]
     },
     "execution_count": 150,
     "metadata": {},
     "output_type": "execute_result"
    }
   ],
   "source": [
    "reduce(lambda x,y:x/y,l)"
   ]
  },
  {
   "cell_type": "markdown",
   "id": "f96cf8a6",
   "metadata": {},
   "source": [
    "# zip"
   ]
  },
  {
   "cell_type": "code",
   "execution_count": 158,
   "id": "0fe95e6a",
   "metadata": {},
   "outputs": [],
   "source": [
    "l=[1,2,3,4,5,6,9]\n",
    "l1=[4,5,6,7,8,9,88]\n",
    "l2=[\"sudh\",\"kumar\",\"krish\",\"sunny\"]"
   ]
  },
  {
   "cell_type": "code",
   "execution_count": 159,
   "id": "ca61709a",
   "metadata": {},
   "outputs": [
    {
     "data": {
      "text/plain": [
       "[(1, 4, 'sudh'), (2, 5, 'kumar'), (3, 6, 'krish'), (4, 7, 'sunny')]"
      ]
     },
     "execution_count": 159,
     "metadata": {},
     "output_type": "execute_result"
    }
   ],
   "source": [
    "list(zip(l,l1,l2))    # return tuple of element having same index"
   ]
  },
  {
   "cell_type": "code",
   "execution_count": null,
   "id": "e71c06f1",
   "metadata": {},
   "outputs": [],
   "source": [
    "#zip retun only smallest list index"
   ]
  },
  {
   "cell_type": "code",
   "execution_count": null,
   "id": "bc975abb",
   "metadata": {},
   "outputs": [],
   "source": []
  },
  {
   "cell_type": "markdown",
   "id": "b66e373a",
   "metadata": {},
   "source": [
    "# task\n",
    "\n",
    "- dataset- https://archive.ics.uci.edu/ml/machine-learning-databases/bag-of-words\n",
    "- q1 = try to find out count of each any every word in a respective file return a list of tuple with wordand its respective            count sample example - [('sudh':6),('kumar':3)]\n",
    "- q1 = try to perform a reduce operation to get a count of all the word staring with same alphabet \n",
    "        sample ex:- [(a,23),(b:24),....]\n",
    "- q3 = try to filter out all the words from dataset \n",
    "        id .001.abstract = abstract delete .001\n",
    "- q2 = cerate a tuple set of all records avaiable in all the file and then store in sqlite DB\n",
    "       (aah ,>=,fsds,wer)\n",
    "      \n",
    "      "
   ]
  },
  {
   "cell_type": "code",
   "execution_count": null,
   "id": "83012672",
   "metadata": {},
   "outputs": [],
   "source": []
  }
 ],
 "metadata": {
  "kernelspec": {
   "display_name": "Python 3 (ipykernel)",
   "language": "python",
   "name": "python3"
  },
  "language_info": {
   "codemirror_mode": {
    "name": "ipython",
    "version": 3
   },
   "file_extension": ".py",
   "mimetype": "text/x-python",
   "name": "python",
   "nbconvert_exporter": "python",
   "pygments_lexer": "ipython3",
   "version": "3.9.12"
  }
 },
 "nbformat": 4,
 "nbformat_minor": 5
}
